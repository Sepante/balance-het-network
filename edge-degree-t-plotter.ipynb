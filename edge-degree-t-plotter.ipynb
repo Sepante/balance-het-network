{
 "cells": [
  {
   "cell_type": "code",
   "execution_count": null,
   "metadata": {},
   "outputs": [],
   "source": [
    "import pandas as pd\n",
    "import numpy as np\n",
    "import matplotlib.pyplot as plt\n",
    "import matplotlib"
   ]
  },
  {
   "cell_type": "code",
   "execution_count": null,
   "metadata": {},
   "outputs": [],
   "source": [
    "df = pd.read_csv('Tc.txt', header = None)\n",
    "\n",
    "degrees = pd.read_csv('Karate_edges.txt', header = None, sep=' ')\n",
    "\n",
    "df.columns=['T']\n",
    "\n",
    "df['K1'] = degrees[0]\n",
    "df['K2'] = degrees[1]\n",
    "\n",
    "misaligned = df['K1'] > df['K2']\n",
    "df.loc[ misaligned ,'K1'], df.loc[ misaligned ,'K2'] = df.loc[ misaligned ,'K2'], df.loc[ misaligned ,'K1']\n",
    "\n",
    "df = df.sort_values(['K1', 'K2'], ascending=[True, True])\n",
    "\n",
    "df = df.reset_index(drop=True);"
   ]
  },
  {
   "cell_type": "code",
   "execution_count": null,
   "metadata": {},
   "outputs": [],
   "source": [
    "df['tuple'] = list(zip(df['K1'], df['K2']))\n",
    "\n",
    "df['counts'] = df['tuple'].map( df['tuple'].value_counts() )\n",
    "\n",
    "df['rank'] = df.groupby(['tuple'])['counts'].rank( 'first' )"
   ]
  },
  {
   "cell_type": "code",
   "execution_count": null,
   "metadata": {},
   "outputs": [],
   "source": [
    "df['pos_corr'] = 0\n",
    "df['theta'] = 2*np.pi * df['rank'] / df['counts']"
   ]
  },
  {
   "cell_type": "code",
   "execution_count": null,
   "metadata": {},
   "outputs": [],
   "source": [
    "df['K1_apprx'] = df['K1'] + np.cos(df['theta'])/5\n",
    "df['K2_apprx'] = df['K2'] + np.sin(df['theta'])/5\n",
    "unique_values = (df['counts'] == 1)\n",
    "df.loc[unique_values, 'K1_apprx'] = df.loc[unique_values, 'K1']\n",
    "df.loc[unique_values, 'K2_apprx'] = df.loc[unique_values, 'K2']\n",
    "\n",
    "unique_K1 = (df.groupby(['tuple']).mean())['K1']\n",
    "unique_K2 = (df.groupby(['tuple']).mean())['K2']"
   ]
  },
  {
   "cell_type": "code",
   "execution_count": null,
   "metadata": {},
   "outputs": [],
   "source": [
    "matplotlib.rcParams.update({'font.size': 13})\n",
    "fig, ax = plt.subplots()\n",
    "#cmap = 'seismic'\n",
    "cmap = 'plasma'\n",
    "scatter = ax.scatter(df['K1_apprx'], df['K2_apprx'], s = 14, c = df['T'], alpha = 0.5, cmap=cmap)\n",
    "ax.grid()\n",
    "ax.set_aspect(1)\n",
    "ax.set_xlabel('$k_{<}$')\n",
    "ax.set_ylabel('$k_{>}$')\n",
    "\n",
    "ax.scatter(unique_K1, unique_K2,  s=150, facecolors='none', edgecolors='k', linestyle='dashed' , alpha = 0.5)\n",
    "\n",
    "ax.set_xticks(range(1, df['K1'].max() , 2) )\n",
    "# ax.set_yticks(range(1, df['K2'].max() , 2) )\n",
    "\n",
    "fig.colorbar(scatter, ax = ax)\n",
    "fig.savefig('fig', dpi = 500, bbox_inches='tight')"
   ]
  },
  {
   "cell_type": "code",
   "execution_count": null,
   "metadata": {},
   "outputs": [],
   "source": [
    "plt.plot(df['K1'], df['T'], 'o', alpha = 0.2)"
   ]
  }
 ],
 "metadata": {
  "kernelspec": {
   "display_name": "Python 3",
   "language": "python",
   "name": "python3"
  },
  "language_info": {
   "codemirror_mode": {
    "name": "ipython",
    "version": 3
   },
   "file_extension": ".py",
   "mimetype": "text/x-python",
   "name": "python",
   "nbconvert_exporter": "python",
   "pygments_lexer": "ipython3",
   "version": "3.6.9"
  }
 },
 "nbformat": 4,
 "nbformat_minor": 2
}
